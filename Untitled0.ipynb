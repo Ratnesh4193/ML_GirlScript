{
  "nbformat": 4,
  "nbformat_minor": 0,
  "metadata": {
    "colab": {
      "name": "Untitled0.ipynb",
      "provenance": [],
      "authorship_tag": "ABX9TyM4gqkv05XwvKRfEqWpkL1f",
      "include_colab_link": true
    },
    "kernelspec": {
      "name": "python3",
      "display_name": "Python 3"
    },
    "language_info": {
      "name": "python"
    }
  },
  "cells": [
    {
      "cell_type": "markdown",
      "metadata": {
        "id": "view-in-github",
        "colab_type": "text"
      },
      "source": [
        "<a href=\"https://colab.research.google.com/github/Ratnesh4193/ML_GirlScript/blob/main/Untitled0.ipynb\" target=\"_parent\"><img src=\"https://colab.research.google.com/assets/colab-badge.svg\" alt=\"Open In Colab\"/></a>"
      ]
    },
    {
      "cell_type": "code",
      "metadata": {
        "id": "GkosSb4JePKp"
      },
      "source": [
        ""
      ],
      "execution_count": null,
      "outputs": []
    },
    {
      "cell_type": "markdown",
      "metadata": {
        "id": "wwIe53HXeS_G"
      },
      "source": [
        "Problem Staement : Table of 10\n",
        "\n",
        "' y = x * 10 '"
      ]
    },
    {
      "cell_type": "markdown",
      "metadata": {
        "id": "YByOAIFNek-u"
      },
      "source": [
        "  xtrain=[i for i in range(21)]\n",
        "  ytrain=[i*10 for i in range(21)]\n",
        "  print(ytrain)"
      ]
    },
    {
      "cell_type": "code",
      "metadata": {
        "colab": {
          "base_uri": "https://localhost:8080/"
        },
        "id": "zcoDk3jSferb",
        "outputId": "08150c17-f3ec-4cd7-96da-e1019a49d46d"
      },
      "source": [
        "xtrain=[i for i in range(21)]\n",
        "ytrain=[i*10 for i in range(21)]\n",
        "print(ytrain)"
      ],
      "execution_count": 4,
      "outputs": [
        {
          "output_type": "stream",
          "text": [
            "[0, 10, 20, 30, 40, 50, 60, 70, 80, 90, 100, 110, 120, 130, 140, 150, 160, 170, 180, 190, 200]\n"
          ],
          "name": "stdout"
        }
      ]
    },
    {
      "cell_type": "code",
      "metadata": {
        "id": "t5JSTFSggaar"
      },
      "source": [
        "import tensorflow as tf\n",
        "from tensorflow import keras"
      ],
      "execution_count": 5,
      "outputs": []
    }
  ]
}